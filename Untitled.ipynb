{
 "cells": [
  {
   "cell_type": "code",
   "execution_count": 1,
   "id": "783dee14",
   "metadata": {},
   "outputs": [],
   "source": [
    "from collections import Counter\n",
    "from sklearn.cluster import KMeans\n",
    "from matplotlib import colors\n",
    "import matplotlib.pyplot as plt\n",
    "import numpy as np\n",
    "import cv2"
   ]
  },
  {
   "cell_type": "code",
   "execution_count": 2,
   "id": "2a40cd9e",
   "metadata": {},
   "outputs": [
    {
     "name": "stdout",
     "output_type": "stream",
     "text": [
      "Requirement already satisfied: sklearn in c:\\users\\vishw\\anaconda3\\lib\\site-packages (0.0.post5)\n"
     ]
    }
   ],
   "source": [
    "!pip install sklearn"
   ]
  },
  {
   "cell_type": "code",
   "execution_count": 3,
   "id": "84065bfa",
   "metadata": {},
   "outputs": [],
   "source": [
    "def rgb_to_hex(rgb_color):\n",
    "    hex_color= '#'\n",
    "    for i in rgb_color:\n",
    "        i=int(i)\n",
    "        hex_color+=(\"{:02x}\".format(i))\n",
    "    return hex_color"
   ]
  },
  {
   "cell_type": "code",
   "execution_count": 4,
   "id": "d7426e15",
   "metadata": {},
   "outputs": [
    {
     "name": "stdout",
     "output_type": "stream",
     "text": [
      "556\n",
      "449\n"
     ]
    }
   ],
   "source": [
    "img_name='slide4_duarba_serwa_-removebg-preview.jpg'\n",
    "raw_img=cv2.imread(img_name)\n",
    "raw_img=cv2.cvtColor(raw_img, cv2.COLOR_BGR2RGB)\n",
    "print(raw_img.shape[0])\n",
    "print(raw_img.shape[1])"
   ]
  },
  {
   "cell_type": "code",
   "execution_count": 5,
   "id": "3dfda4ad",
   "metadata": {},
   "outputs": [],
   "source": [
    "img=cv2.resize(raw_img,(900,600), interpolation=cv2.INTER_AREA)\n",
    "img=img.reshape(img.shape[0]*img.shape[1],3)"
   ]
  },
  {
   "cell_type": "code",
   "execution_count": 6,
   "id": "d7ebbf2d",
   "metadata": {},
   "outputs": [
    {
     "name": "stderr",
     "output_type": "stream",
     "text": [
      "C:\\Users\\vishw\\anaconda3\\lib\\site-packages\\sklearn\\cluster\\_kmeans.py:870: FutureWarning: The default value of `n_init` will change from 10 to 'auto' in 1.4. Set the value of `n_init` explicitly to suppress the warning\n",
      "  warnings.warn(\n"
     ]
    },
    {
     "data": {
      "text/plain": [
       "'counts=Counter(color_labels)\\nordered_colors=[center_colors[i] for i in counts.keys()]\\nhex_colors=[rgb_to_hex(ordered_colors[i]) for i in counts.keys()]\\nplt.figure(figsize=(12,8))\\nplt.pie(counts.values(),labels=hex_colors,colors=hex_colors)\\nplt.savefig(f\"{img_name[:-4]}-analysis.png\")\\nprint(hex_colors)'"
      ]
     },
     "execution_count": 6,
     "metadata": {},
     "output_type": "execute_result"
    }
   ],
   "source": [
    "clf=KMeans(n_clusters=5)\n",
    "color_labels=clf.fit_predict(img)\n",
    "center_colors=clf.cluster_centers_\n",
    "\"\"\"counts=Counter(color_labels)\n",
    "ordered_colors=[center_colors[i] for i in counts.keys()]\n",
    "hex_colors=[rgb_to_hex(ordered_colors[i]) for i in counts.keys()]\n",
    "plt.figure(figsize=(12,8))\n",
    "plt.pie(counts.values(),labels=hex_colors,colors=hex_colors)\n",
    "plt.savefig(f\"{img_name[:-4]}-analysis.png\")\n",
    "print(hex_colors)\"\"\""
   ]
  },
  {
   "cell_type": "code",
   "execution_count": 7,
   "id": "849a13c1",
   "metadata": {},
   "outputs": [
    {
     "data": {
      "text/plain": [
       "array([0, 0, 0, ..., 0, 0, 0])"
      ]
     },
     "execution_count": 7,
     "metadata": {},
     "output_type": "execute_result"
    }
   ],
   "source": [
    "color_labels"
   ]
  },
  {
   "cell_type": "code",
   "execution_count": 8,
   "id": "88caa00b",
   "metadata": {},
   "outputs": [
    {
     "data": {
      "text/plain": [
       "array([[255, 255, 255],\n",
       "       [255, 255, 255],\n",
       "       [255, 255, 255],\n",
       "       ...,\n",
       "       [255, 255, 255],\n",
       "       [255, 255, 255],\n",
       "       [255, 255, 255]], dtype=uint8)"
      ]
     },
     "execution_count": 8,
     "metadata": {},
     "output_type": "execute_result"
    }
   ],
   "source": [
    "img"
   ]
  },
  {
   "cell_type": "code",
   "execution_count": 9,
   "id": "a4f7358b",
   "metadata": {},
   "outputs": [
    {
     "data": {
      "text/plain": [
       "array([[254.80461177, 254.79988585, 254.75533831],\n",
       "       [ 39.46774046,  39.32868347,  49.43207123],\n",
       "       [172.23290598, 135.33452042,  57.12951092],\n",
       "       [120.39433458, 148.5818279 , 117.02319615],\n",
       "       [100.2865843 ,  83.67409083,  65.30491271]])"
      ]
     },
     "execution_count": 9,
     "metadata": {},
     "output_type": "execute_result"
    }
   ],
   "source": [
    "center_colors"
   ]
  },
  {
   "cell_type": "code",
   "execution_count": 10,
   "id": "b6b57bbb",
   "metadata": {},
   "outputs": [],
   "source": [
    "counts=Counter(color_labels)"
   ]
  },
  {
   "cell_type": "code",
   "execution_count": 11,
   "id": "e526fcef",
   "metadata": {},
   "outputs": [
    {
     "data": {
      "text/plain": [
       "Counter({0: 450282, 3: 9351, 4: 17237, 1: 54670, 2: 8460})"
      ]
     },
     "execution_count": 11,
     "metadata": {},
     "output_type": "execute_result"
    }
   ],
   "source": [
    "counts"
   ]
  },
  {
   "cell_type": "code",
   "execution_count": 12,
   "id": "50721417",
   "metadata": {},
   "outputs": [
    {
     "data": {
      "text/plain": [
       "['#fefefe', '#272731', '#ac8739', '#789475', '#645341']"
      ]
     },
     "execution_count": 12,
     "metadata": {},
     "output_type": "execute_result"
    }
   ],
   "source": [
    "ordered_colors=[center_colors[i] for i in counts.keys() ]\n",
    "hex_colors=[rgb_to_hex(ordered_colors[i]) for i in counts.keys()]\n",
    "hex_colors"
   ]
  },
  {
   "cell_type": "code",
   "execution_count": 13,
   "id": "b330331f",
   "metadata": {},
   "outputs": [
    {
     "data": {
      "text/plain": [
       "'plt.figure(figsize=(12,8))\\nplt.pie(counts.values(),labels=hex_colors, colors=hex_colors)\\nplt.savefig(f\"{img_name[:-4]}-analysis.png\")\\n'"
      ]
     },
     "execution_count": 13,
     "metadata": {},
     "output_type": "execute_result"
    }
   ],
   "source": [
    "\"\"\"plt.figure(figsize=(12,8))\n",
    "plt.pie(counts.values(),labels=hex_colors, colors=hex_colors)\n",
    "plt.savefig(f\"{img_name[:-4]}-analysis.png\")\n",
    "\"\"\""
   ]
  },
  {
   "cell_type": "code",
   "execution_count": 14,
   "id": "7d526806",
   "metadata": {},
   "outputs": [
    {
     "data": {
      "image/png": "[encoded data removed]",
      "text/plain": [
       "<Figure size 1200x800 with 1 Axes>"
      ]
     },
     "metadata": {},
     "output_type": "display_data"
    }
   ],
   "source": [
    "total_count = len(color_labels)\n",
    "color_percentages = [(hex_colors[i], counts[i] / total_count * 100) for i in counts.keys()]\n",
    "\n",
    "color_labels = [f'{color} ' for color, percentage in color_percentages]\n",
    "\n",
    "plt.figure(figsize=(12, 8))\n",
    "plt.pie(counts.values(), labels=color_labels, colors=hex_colors, autopct='%1.1f%%', startangle=140)\n",
    "plt.savefig(f\"{img_name[:-4]}-analysis.png\")"
   ]
  },
  {
   "cell_type": "code",
   "execution_count": null,
   "id": "525893e1",
   "metadata": {},
   "outputs": [],
   "source": []
  }
 ],
 "metadata": {
  "kernelspec": {
   "display_name": "Python 3 (ipykernel)",
   "language": "python",
   "name": "python3"
  },
  "language_info": {
   "codemirror_mode": {
    "name": "ipython",
    "version": 3
   },
   "file_extension": ".py",
   "mimetype": "text/x-python",
   "name": "python",
   "nbconvert_exporter": "python",
   "pygments_lexer": "ipython3",
   "version": "3.10.9"
  }
 },
 "nbformat": 4,
 "nbformat_minor": 5
}
