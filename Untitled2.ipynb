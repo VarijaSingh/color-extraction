{
 "cells": [
  {
   "cell_type": "code",
   "execution_count": 1,
   "id": "e31c23e5",
   "metadata": {},
   "outputs": [
    {
     "ename": "error",
     "evalue": "OpenCV(4.8.0) D:\\a\\opencv-python\\opencv-python\\opencv\\modules\\core\\src\\arithm.cpp:1742: error: (-209:Sizes of input arguments do not match) The lower boundary is neither an array of the same size and same type as src, nor a scalar in function 'cv::inRange'\n",
     "output_type": "error",
     "traceback": [
      "\u001b[1;31m---------------------------------------------------------------------------\u001b[0m",
      "\u001b[1;31merror\u001b[0m                                     Traceback (most recent call last)",
      "Cell \u001b[1;32mIn[1], line 32\u001b[0m\n\u001b[0;32m     29\u001b[0m bg_color \u001b[38;5;241m=\u001b[39m np\u001b[38;5;241m.\u001b[39marray([\u001b[38;5;241m255\u001b[39m, \u001b[38;5;241m255\u001b[39m, \u001b[38;5;241m255\u001b[39m], dtype\u001b[38;5;241m=\u001b[39mnp\u001b[38;5;241m.\u001b[39muint8)  \u001b[38;5;66;03m# Define a transparent white color as the background\u001b[39;00m\n\u001b[0;32m     31\u001b[0m \u001b[38;5;66;03m# Filter out the background color\u001b[39;00m\n\u001b[1;32m---> 32\u001b[0m filtered_img \u001b[38;5;241m=\u001b[39m \u001b[43mfilter_background_color\u001b[49m\u001b[43m(\u001b[49m\u001b[43mraw_img\u001b[49m\u001b[43m,\u001b[49m\u001b[43m \u001b[49m\u001b[43mbg_color\u001b[49m\u001b[43m)\u001b[49m\n\u001b[0;32m     33\u001b[0m img \u001b[38;5;241m=\u001b[39m cv2\u001b[38;5;241m.\u001b[39mresize(filtered_img, (\u001b[38;5;241m900\u001b[39m, \u001b[38;5;241m600\u001b[39m), interpolation\u001b[38;5;241m=\u001b[39mcv2\u001b[38;5;241m.\u001b[39mINTER_AREA)\n\u001b[0;32m     34\u001b[0m img \u001b[38;5;241m=\u001b[39m img\u001b[38;5;241m.\u001b[39mreshape(img\u001b[38;5;241m.\u001b[39mshape[\u001b[38;5;241m0\u001b[39m] \u001b[38;5;241m*\u001b[39m img\u001b[38;5;241m.\u001b[39mshape[\u001b[38;5;241m1\u001b[39m], \u001b[38;5;241m3\u001b[39m)\n",
      "Cell \u001b[1;32mIn[1], line 19\u001b[0m, in \u001b[0;36mfilter_background_color\u001b[1;34m(img, bg_color, tolerance)\u001b[0m\n\u001b[0;32m     17\u001b[0m lower_bound \u001b[38;5;241m=\u001b[39m np\u001b[38;5;241m.\u001b[39marray([bg_color[\u001b[38;5;241m0\u001b[39m] \u001b[38;5;241m-\u001b[39m tolerance, bg_color[\u001b[38;5;241m1\u001b[39m] \u001b[38;5;241m-\u001b[39m tolerance, bg_color[\u001b[38;5;241m2\u001b[39m] \u001b[38;5;241m-\u001b[39m tolerance])\n\u001b[0;32m     18\u001b[0m upper_bound \u001b[38;5;241m=\u001b[39m np\u001b[38;5;241m.\u001b[39marray([bg_color[\u001b[38;5;241m0\u001b[39m] \u001b[38;5;241m+\u001b[39m tolerance, bg_color[\u001b[38;5;241m1\u001b[39m] \u001b[38;5;241m+\u001b[39m tolerance, bg_color[\u001b[38;5;241m2\u001b[39m] \u001b[38;5;241m+\u001b[39m tolerance])\n\u001b[1;32m---> 19\u001b[0m mask \u001b[38;5;241m=\u001b[39m \u001b[43mcv2\u001b[49m\u001b[38;5;241;43m.\u001b[39;49m\u001b[43minRange\u001b[49m\u001b[43m(\u001b[49m\u001b[43mimg_array\u001b[49m\u001b[43m,\u001b[49m\u001b[43m \u001b[49m\u001b[43mlower_bound\u001b[49m\u001b[43m,\u001b[49m\u001b[43m \u001b[49m\u001b[43mupper_bound\u001b[49m\u001b[43m)\u001b[49m\n\u001b[0;32m     21\u001b[0m img_array[mask \u001b[38;5;241m>\u001b[39m \u001b[38;5;241m0\u001b[39m] \u001b[38;5;241m=\u001b[39m [\u001b[38;5;241m255\u001b[39m, \u001b[38;5;241m255\u001b[39m, \u001b[38;5;241m255\u001b[39m]\n\u001b[0;32m     23\u001b[0m \u001b[38;5;28;01mreturn\u001b[39;00m img_array\n",
      "\u001b[1;31merror\u001b[0m: OpenCV(4.8.0) D:\\a\\opencv-python\\opencv-python\\opencv\\modules\\core\\src\\arithm.cpp:1742: error: (-209:Sizes of input arguments do not match) The lower boundary is neither an array of the same size and same type as src, nor a scalar in function 'cv::inRange'\n"
     ]
    }
   ],
   "source": [
    "import cv2\n",
    "from collections import Counter\n",
    "from sklearn.cluster import KMeans\n",
    "import matplotlib.pyplot as plt\n",
    "import numpy as np\n",
    "\n",
    "def rgb_to_hex(rgb_color):\n",
    "    hex_color = '#'\n",
    "    for i in rgb_color:\n",
    "        i = int(i)\n",
    "        hex_color += \"{:02x}\".format(i)\n",
    "    return hex_color\n",
    "\n",
    "def filter_background_color(img, bg_color, tolerance=30):\n",
    "    img_array = np.array(img)\n",
    "\n",
    "    lower_bound = np.array([bg_color[0] - tolerance, bg_color[1] - tolerance, bg_color[2] - tolerance])\n",
    "    upper_bound = np.array([bg_color[0] + tolerance, bg_color[1] + tolerance, bg_color[2] + tolerance])\n",
    "    mask = cv2.inRange(img_array, lower_bound, upper_bound)\n",
    "\n",
    "    img_array[mask > 0] = [255, 255, 255]\n",
    "\n",
    "    return img_array\n",
    "\n",
    "# Change the image filename to the PNG image you want to process\n",
    "img_name = 'slide4_JZO_-removebg-preview (1).png'\n",
    "raw_img = cv2.imread(img_name, cv2.IMREAD_UNCHANGED)  # Load the PNG image with alpha channel\n",
    "\n",
    "bg_color = np.array([255, 255, 255], dtype=np.uint8)  # Define a transparent white color as the background\n",
    "\n",
    "# Filter out the background color\n",
    "filtered_img = filter_background_color(raw_img, bg_color)\n",
    "img = cv2.resize(filtered_img, (900, 600), interpolation=cv2.INTER_AREA)\n",
    "img = img.reshape(img.shape[0] * img.shape[1], 3)\n",
    "\n",
    "clf = KMeans(n_clusters=5)\n",
    "color_labels = clf.fit_predict(img)\n",
    "center_colors = clf.cluster_centers_\n",
    "counts = Counter(color_labels)\n",
    "\n",
    "ordered_colors = [center_colors[i] for i in counts.keys()]\n",
    "hex_colors = [rgb_to_hex(ordered_colors[i]) for i in counts.keys()]\n",
    "\n",
    "total_count = len(color_labels)\n",
    "color_percentages = [(hex_colors[i], counts[i] / total_count * 100) for i in counts.keys()]\n",
    "\n",
    "color_labels = [f'{color} ({percentage:.2f}%)' for color, percentage in color_percentages]\n",
    "\n",
    "plt.figure(figsize=(12, 8))\n",
    "plt.pie(counts.values(), labels=color_labels, colors=hex_colors, autopct='%1.1f%%', startangle=140)\n",
    "plt.savefig(f\"{img_name[:-4]}-analysis.png\")\n"
   ]
  },
  {
   "cell_type": "code",
   "execution_count": null,
   "id": "2937ebed",
   "metadata": {},
   "outputs": [],
   "source": []
  }
 ],
 "metadata": {
  "kernelspec": {
   "display_name": "Python 3 (ipykernel)",
   "language": "python",
   "name": "python3"
  },
  "language_info": {
   "codemirror_mode": {
    "name": "ipython",
    "version": 3
   },
   "file_extension": ".py",
   "mimetype": "text/x-python",
   "name": "python",
   "nbconvert_exporter": "python",
   "pygments_lexer": "ipython3",
   "version": "3.10.9"
  }
 },
 "nbformat": 4,
 "nbformat_minor": 5
}
